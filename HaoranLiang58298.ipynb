{
  "nbformat": 4,
  "nbformat_minor": 0,
  "metadata": {
    "colab": {
      "provenance": []
    },
    "kernelspec": {
      "name": "python3",
      "display_name": "Python 3"
    },
    "language_info": {
      "name": "python"
    }
  },
  "cells": [
    {
      "cell_type": "code",
      "execution_count": null,
      "metadata": {
        "id": "7ZaifIF2lHsk"
      },
      "outputs": [],
      "source": [
        "import numpy as np\n",
        "\n",
        "# A. Create a random integer 'N' between 20 and 101\n",
        "N = np.random.randint(20, 102)"
      ]
    },
    {
      "cell_type": "code",
      "source": [
        "# B. Create a list of random floats sampled from the normal distribution N(0, 1)\n",
        "floats_list = np.random.normal(0, 1, N)"
      ],
      "metadata": {
        "id": "47RVl81Glf2K"
      },
      "execution_count": null,
      "outputs": []
    },
    {
      "cell_type": "code",
      "source": [
        "# C. Create a numpy array from the list\n",
        "array = np.array(floats_list)"
      ],
      "metadata": {
        "id": "tm1sjuhzlhhr"
      },
      "execution_count": null,
      "outputs": []
    },
    {
      "cell_type": "code",
      "source": [
        "# D. Compute the mean and standard deviation using numpy\n",
        "mean_value = np.mean(array)\n",
        "std_deviation = np.std(array)"
      ],
      "metadata": {
        "id": "CT-8Idndli9J"
      },
      "execution_count": null,
      "outputs": []
    },
    {
      "cell_type": "code",
      "source": [
        "# E. Comment with the mean and standard deviation values\n",
        "print(f\"My array has the mean value equal to {mean_value} and its standard deviation is equal to {std_deviation}.\")"
      ],
      "metadata": {
        "colab": {
          "base_uri": "https://localhost:8080/"
        },
        "id": "Vv8dCKZolqr3",
        "outputId": "4eb43a3c-105a-46d4-b608-1578b13a9637"
      },
      "execution_count": null,
      "outputs": [
        {
          "output_type": "stream",
          "name": "stdout",
          "text": [
            "My array has the mean value equal to -0.12250828519585669 and its standard deviation is equal to 0.889009907399395.\n"
          ]
        }
      ]
    },
    {
      "cell_type": "code",
      "source": [
        "import numpy as np\n",
        "\n",
        "slownik = {\n",
        "    'key1': list(np.random.rand(6)),\n",
        "    'key2': list(np.random.rand(6)),\n",
        "    'key3': list(np.random.rand(6)),\n",
        "    'key4': list(np.random.rand(6)),\n",
        "    'key5': list(np.random.rand(6)),\n",
        "}\n"
      ],
      "metadata": {
        "id": "rcny8RzknOdT"
      },
      "execution_count": null,
      "outputs": []
    },
    {
      "cell_type": "code",
      "source": [
        "import pandas as pd\n",
        "\n",
        "df = pd.DataFrame(slownik)"
      ],
      "metadata": {
        "id": "KYBKGDHanP3w"
      },
      "execution_count": null,
      "outputs": []
    },
    {
      "cell_type": "code",
      "source": [
        "print(slownik)"
      ],
      "metadata": {
        "colab": {
          "base_uri": "https://localhost:8080/"
        },
        "id": "2AEy-YiVnSNF",
        "outputId": "b35a6f6d-d3a6-423b-e5e3-a3e8c2e8d651"
      },
      "execution_count": null,
      "outputs": [
        {
          "output_type": "stream",
          "name": "stdout",
          "text": [
            "{'key1': [0.3277353899213845, 0.9861690023126038, 0.12227258384648887, 0.7563883196075294, 0.6190580596600325, 0.35596610153493236], 'key2': [0.6737522220820754, 0.41831611390397694, 0.7062309539718397, 0.7365449031887061, 0.7535888012324562, 0.4101979183434017], 'key3': [0.1935533752127382, 0.24194563875824004, 0.8514286159052858, 0.7145558817764202, 0.38973482033041396, 0.9799907713094482], 'key4': [0.0031937885281567713, 0.6500883879830255, 0.5388919160220118, 0.7718365274022678, 0.8546600809205274, 0.06657544315886377], 'key5': [0.408359667888035, 0.1544044344776625, 0.6867220049386591, 0.34440195567750087, 0.07556886217604453, 0.553285638065943]}\n"
          ]
        }
      ]
    },
    {
      "cell_type": "code",
      "source": [
        "print(df.describe())"
      ],
      "metadata": {
        "colab": {
          "base_uri": "https://localhost:8080/"
        },
        "id": "0AuEuai1nVVR",
        "outputId": "4045d361-15ea-47ca-b7a4-1254bfa800e0"
      },
      "execution_count": null,
      "outputs": [
        {
          "output_type": "stream",
          "name": "stdout",
          "text": [
            "           key1      key2      key3      key4      key5\n",
            "count  6.000000  6.000000  6.000000  6.000000  6.000000\n",
            "mean   0.527932  0.616438  0.561868  0.480874  0.370457\n",
            "std    0.317707  0.158979  0.331548  0.362270  0.232036\n",
            "min    0.122273  0.410198  0.193553  0.003194  0.075569\n",
            "25%    0.334793  0.482175  0.278893  0.184655  0.201904\n",
            "50%    0.487512  0.689992  0.552145  0.594490  0.376381\n",
            "75%    0.722056  0.728966  0.817210  0.741399  0.517054\n",
            "max    0.986169  0.753589  0.979991  0.854660  0.686722\n"
          ]
        }
      ]
    },
    {
      "cell_type": "code",
      "source": [
        "#A. Change your 'slownik' so that two values contain categorical (string) data instead of the floats.\n",
        "slownik['key1'] = ['cat', 'dog', 'bird', 'dog', 'cat', 'bird']\n",
        "slownik['key2'] = ['red', 'blue', 'green', 'blue', 'red', 'green']"
      ],
      "metadata": {
        "id": "KNDD0HXJoEd2"
      },
      "execution_count": null,
      "outputs": []
    },
    {
      "cell_type": "code",
      "source": [
        "#B. Replace floats or strings with np.nan in at least four places in the values in 'slownik'.\n",
        "slownik['key3'][2] = np.nan\n",
        "slownik['key4'][3] = np.nan\n",
        "slownik['key1'][1] = np.nan\n",
        "slownik['key2'][0] = np.nan"
      ],
      "metadata": {
        "id": "i0c4lTH9oKSK"
      },
      "execution_count": null,
      "outputs": []
    },
    {
      "cell_type": "code",
      "source": [
        "#C. Perform imputation of the missing data. Use 'median' as an imputation methods for the columns\n",
        "#containing floating-point numbers and 'constant' method for the columns with\n",
        "#categorical data.\n",
        "from sklearn.impute import SimpleImputer\n",
        "\n",
        "# Create DataFrame from the dictionary\n",
        "df = pd.DataFrame(slownik)\n",
        "\n",
        "# Impute missing values in numerical columns\n",
        "imputer = SimpleImputer(strategy='median')\n",
        "df[['key3', 'key4', 'key5']] = imputer.fit_transform(df[['key3', 'key4', 'key5']])\n",
        "\n",
        "# Impute missing values in categorical columns\n",
        "imputer = SimpleImputer(strategy='constant', fill_value='missing')\n",
        "df[['key1', 'key2']] = imputer.fit_transform(df[['key1', 'key2']])\n",
        "\n",
        "print(df)"
      ],
      "metadata": {
        "colab": {
          "base_uri": "https://localhost:8080/"
        },
        "id": "G08QsYvnoKun",
        "outputId": "63d74366-8461-4932-881a-0edfe7ac271d"
      },
      "execution_count": null,
      "outputs": [
        {
          "output_type": "stream",
          "name": "stdout",
          "text": [
            "      key1     key2      key3      key4      key5\n",
            "0      cat  missing  0.193553  0.003194  0.408360\n",
            "1  missing     blue  0.241946  0.650088  0.154404\n",
            "2     bird    green  0.389735  0.538892  0.686722\n",
            "3      dog     blue  0.714556  0.538892  0.344402\n",
            "4      cat      red  0.389735  0.854660  0.075569\n",
            "5     bird    green  0.979991  0.066575  0.553286\n"
          ]
        }
      ]
    },
    {
      "cell_type": "code",
      "source": [
        "from sklearn.preprocessing import OneHotEncoder\n",
        "\n",
        "# Initialize OneHotEncoder\n",
        "encoder = OneHotEncoder()\n",
        "\n",
        "# Fit and transform 'key1' and 'key2' columns\n",
        "encoded_values = encoder.fit_transform(df[['key1', 'key2']]).toarray()\n",
        "\n",
        "# Extract column names after OneHotEncoding\n",
        "encoded_columns = encoder.get_feature_names_out(['key1', 'key2'])\n",
        "\n",
        "# Create DataFrame from encoded values and columns\n",
        "df_encoded = pd.DataFrame(encoded_values, columns=encoded_columns)\n",
        "\n",
        "# Drop 'key1' and 'key2' from original DataFrame\n",
        "df = df.drop(['key1', 'key2'], axis=1)\n",
        "\n",
        "# Concatenate original DataFrame with encoded DataFrame\n",
        "df = pd.concat([df, df_encoded], axis=1)\n",
        "\n",
        "print(df)"
      ],
      "metadata": {
        "colab": {
          "base_uri": "https://localhost:8080/"
        },
        "id": "U6QH2wutoNYY",
        "outputId": "6f72f0c4-5d61-4c9d-a1c5-72a43e6f7871"
      },
      "execution_count": null,
      "outputs": [
        {
          "output_type": "stream",
          "name": "stdout",
          "text": [
            "       key3      key4      key5  key1_bird  key1_cat  key1_dog  key1_missing  \\\n",
            "0  0.193553  0.003194  0.408360        0.0       1.0       0.0           0.0   \n",
            "1  0.241946  0.650088  0.154404        0.0       0.0       0.0           1.0   \n",
            "2  0.389735  0.538892  0.686722        1.0       0.0       0.0           0.0   \n",
            "3  0.714556  0.538892  0.344402        0.0       0.0       1.0           0.0   \n",
            "4  0.389735  0.854660  0.075569        0.0       1.0       0.0           0.0   \n",
            "5  0.979991  0.066575  0.553286        1.0       0.0       0.0           0.0   \n",
            "\n",
            "   key2_blue  key2_green  key2_missing  key2_red  \n",
            "0        0.0         0.0           1.0       0.0  \n",
            "1        1.0         0.0           0.0       0.0  \n",
            "2        0.0         1.0           0.0       0.0  \n",
            "3        1.0         0.0           0.0       0.0  \n",
            "4        0.0         0.0           0.0       1.0  \n",
            "5        0.0         1.0           0.0       0.0  \n"
          ]
        }
      ]
    },
    {
      "cell_type": "code",
      "source": [
        "#Problem 4.\n",
        "#A. Select a random integer N between 100 and 200 using numpy.\n",
        "import numpy as np\n",
        "\n",
        "N = np.random.randint(100, 201)"
      ],
      "metadata": {
        "id": "N9YvwQOfpfEl"
      },
      "execution_count": null,
      "outputs": []
    },
    {
      "cell_type": "code",
      "source": [
        "#B. Use make_classification function to create a classification problem with n_samples = N.\n",
        "from sklearn.datasets import make_classification\n",
        "\n",
        "X, y = make_classification(n_samples=N, n_features=20, random_state=42)"
      ],
      "metadata": {
        "id": "g1fhkREbpkb3"
      },
      "execution_count": null,
      "outputs": []
    },
    {
      "cell_type": "code",
      "source": [
        "#C. Divide the data returned by make_classification into the training and test parts.\n",
        "from sklearn.model_selection import train_test_split\n",
        "\n",
        "X_train, X_test, y_train, y_test = train_test_split(X, y, test_size=0.2, random_state=42)"
      ],
      "metadata": {
        "id": "itfIC329plV3"
      },
      "execution_count": null,
      "outputs": []
    },
    {
      "cell_type": "code",
      "source": [
        "#D. Perform the classification using RandomForestClassifier.\n",
        "from sklearn.ensemble import RandomForestClassifier\n",
        "\n",
        "# Initialize a RandomForestClassifier\n",
        "clf = RandomForestClassifier(n_estimators=100, random_state=42)\n",
        "\n",
        "# Fit the model to the training data\n",
        "clf.fit(X_train, y_train)\n",
        "\n",
        "# Predict the test data\n",
        "y_pred = clf.predict(X_test)"
      ],
      "metadata": {
        "id": "pUzZ0MKRpnL0"
      },
      "execution_count": null,
      "outputs": []
    },
    {
      "cell_type": "code",
      "source": [
        "#show the classification\n",
        "from sklearn.metrics import confusion_matrix, classification_report\n",
        "\n",
        "# 计算混淆矩阵 confusion_matrix :)\n",
        "print(\"混淆矩阵:confusion matrix\")\n",
        "print(confusion_matrix(y_test, y_pred))\n",
        "\n",
        "# 显示分类报告 classification_report :)\n",
        "print(\"分类报告:classification report\")\n",
        "print(classification_report(y_test, y_pred))"
      ],
      "metadata": {
        "colab": {
          "base_uri": "https://localhost:8080/"
        },
        "id": "GOop2zgYqmUp",
        "outputId": "47f30884-5cf3-45b0-8f2a-32b2acde51fa"
      },
      "execution_count": null,
      "outputs": [
        {
          "output_type": "stream",
          "name": "stdout",
          "text": [
            "混淆矩阵:confusion matrix\n",
            "[[23  3]\n",
            " [ 1 13]]\n",
            "分类报告:classification report\n",
            "              precision    recall  f1-score   support\n",
            "\n",
            "           0       0.96      0.88      0.92        26\n",
            "           1       0.81      0.93      0.87        14\n",
            "\n",
            "    accuracy                           0.90        40\n",
            "   macro avg       0.89      0.91      0.89        40\n",
            "weighted avg       0.91      0.90      0.90        40\n",
            "\n"
          ]
        }
      ]
    },
    {
      "cell_type": "code",
      "source": [
        "#A. Using numpy, create the data:\n",
        "#x = numpy.linspace(1, 10, 20)\n",
        "#x1 = x.reshape((-1, 1))\n",
        "#y = 2*x + np.sin(200*numpy.pi*x)\n",
        "import numpy as np\n",
        "\n",
        "x = np.linspace(1, 10, 20)\n",
        "x1 = x.reshape((-1, 1))\n",
        "y = 2*x + np.sin(200*np.pi*x)\n"
      ],
      "metadata": {
        "id": "40lFg4KUr_WA"
      },
      "execution_count": null,
      "outputs": []
    },
    {
      "cell_type": "code",
      "source": [
        "#B. Using matplotlib.pyplot create a plot of y versus x.\n",
        "import matplotlib.pyplot as plt\n",
        "\n",
        "plt.plot(x, y)\n",
        "plt.xlabel('x')\n",
        "plt.ylabel('y')\n",
        "plt.title('Plot of y versus x')\n",
        "plt.show()"
      ],
      "metadata": {
        "colab": {
          "base_uri": "https://localhost:8080/",
          "height": 472
        },
        "id": "m10J4sj0sPzp",
        "outputId": "3cf98ffb-6dc2-4744-b38a-250d2a0f8e3e"
      },
      "execution_count": null,
      "outputs": [
        {
          "output_type": "display_data",
          "data": {
            "text/plain": [
              "<Figure size 640x480 with 1 Axes>"
            ],
            "image/png": "[encoded data removed]"
          },
          "metadata": {}
        }
      ]
    },
    {
      "cell_type": "code",
      "source": [
        "#C. Formulate a sentence to reply to the question: what does the method reshape((-1, 1)) does to x?\n",
        "print(\"Shape of x:\", x.shape)\n",
        "print(\"First five values of x:\", x[:5])\n",
        "print(\"Shape of x1:\", x1.shape)\n",
        "print(\"First five values of x1:\", x1[:5])\n",
        "\n",
        "# The reshape((-1, 1)) method transforms x from a 1D array into a 2D array with one column.\n",
        "print(\"The reshape((-1, 1)) method transforms x from a 1D array into a 2D array with one column.\")"
      ],
      "metadata": {
        "colab": {
          "base_uri": "https://localhost:8080/"
        },
        "id": "OXI9Y745sUEk",
        "outputId": "1bd29888-3f1a-4917-cfb7-156e8bf1a55d"
      },
      "execution_count": null,
      "outputs": [
        {
          "output_type": "stream",
          "name": "stdout",
          "text": [
            "Shape of x: (20,)\n",
            "First five values of x: [1.         1.47368421 1.94736842 2.42105263 2.89473684]\n",
            "Shape of x1: (20, 1)\n",
            "First five values of x1: [[1.        ]\n",
            " [1.47368421]\n",
            " [1.94736842]\n",
            " [2.42105263]\n",
            " [2.89473684]]\n",
            "The reshape((-1, 1)) method transforms x from a 1D array into a 2D array with one column.\n"
          ]
        }
      ]
    },
    {
      "cell_type": "code",
      "source": [
        "#D. Using the class LinearRegression from the module sklearn.linear_model, build and fit a model\n",
        "from sklearn.linear_model import LinearRegression\n",
        "\n",
        "model = LinearRegression()\n",
        "model.fit(x1, y)\n"
      ],
      "metadata": {
        "colab": {
          "base_uri": "https://localhost:8080/",
          "height": 74
        },
        "id": "Csw0qzKvsncv",
        "outputId": "17cd88f2-c98a-40ce-ec2d-bb6d175999ac"
      },
      "execution_count": null,
      "outputs": [
        {
          "output_type": "execute_result",
          "data": {
            "text/plain": [
              "LinearRegression()"
            ],
            "text/html": [
              "<style>#sk-container-id-1 {color: black;background-color: white;}#sk-container-id-1 pre{padding: 0;}#sk-container-id-1 div.sk-toggleable {background-color: white;}#sk-container-id-1 label.sk-toggleable__label {cursor: pointer;display: block;width: 100%;margin-bottom: 0;padding: 0.3em;box-sizing: border-box;text-align: center;}#sk-container-id-1 label.sk-toggleable__label-arrow:before {content: \"▸\";float: left;margin-right: 0.25em;color: #696969;}#sk-container-id-1 label.sk-toggleable__label-arrow:hover:before {color: black;}#sk-container-id-1 div.sk-estimator:hover label.sk-toggleable__label-arrow:before {color: black;}#sk-container-id-1 div.sk-toggleable__content {max-height: 0;max-width: 0;overflow: hidden;text-align: left;background-color: #f0f8ff;}#sk-container-id-1 div.sk-toggleable__content pre {margin: 0.2em;color: black;border-radius: 0.25em;background-color: #f0f8ff;}#sk-container-id-1 input.sk-toggleable__control:checked~div.sk-toggleable__content {max-height: 200px;max-width: 100%;overflow: auto;}#sk-container-id-1 input.sk-toggleable__control:checked~label.sk-toggleable__label-arrow:before {content: \"▾\";}#sk-container-id-1 div.sk-estimator input.sk-toggleable__control:checked~label.sk-toggleable__label {background-color: #d4ebff;}#sk-container-id-1 div.sk-label input.sk-toggleable__control:checked~label.sk-toggleable__label {background-color: #d4ebff;}#sk-container-id-1 input.sk-hidden--visually {border: 0;clip: rect(1px 1px 1px 1px);clip: rect(1px, 1px, 1px, 1px);height: 1px;margin: -1px;overflow: hidden;padding: 0;position: absolute;width: 1px;}#sk-container-id-1 div.sk-estimator {font-family: monospace;background-color: #f0f8ff;border: 1px dotted black;border-radius: 0.25em;box-sizing: border-box;margin-bottom: 0.5em;}#sk-container-id-1 div.sk-estimator:hover {background-color: #d4ebff;}#sk-container-id-1 div.sk-parallel-item::after {content: \"\";width: 100%;border-bottom: 1px solid gray;flex-grow: 1;}#sk-container-id-1 div.sk-label:hover label.sk-toggleable__label {background-color: #d4ebff;}#sk-container-id-1 div.sk-serial::before {content: \"\";position: absolute;border-left: 1px solid gray;box-sizing: border-box;top: 0;bottom: 0;left: 50%;z-index: 0;}#sk-container-id-1 div.sk-serial {display: flex;flex-direction: column;align-items: center;background-color: white;padding-right: 0.2em;padding-left: 0.2em;position: relative;}#sk-container-id-1 div.sk-item {position: relative;z-index: 1;}#sk-container-id-1 div.sk-parallel {display: flex;align-items: stretch;justify-content: center;background-color: white;position: relative;}#sk-container-id-1 div.sk-item::before, #sk-container-id-1 div.sk-parallel-item::before {content: \"\";position: absolute;border-left: 1px solid gray;box-sizing: border-box;top: 0;bottom: 0;left: 50%;z-index: -1;}#sk-container-id-1 div.sk-parallel-item {display: flex;flex-direction: column;z-index: 1;position: relative;background-color: white;}#sk-container-id-1 div.sk-parallel-item:first-child::after {align-self: flex-end;width: 50%;}#sk-container-id-1 div.sk-parallel-item:last-child::after {align-self: flex-start;width: 50%;}#sk-container-id-1 div.sk-parallel-item:only-child::after {width: 0;}#sk-container-id-1 div.sk-dashed-wrapped {border: 1px dashed gray;margin: 0 0.4em 0.5em 0.4em;box-sizing: border-box;padding-bottom: 0.4em;background-color: white;}#sk-container-id-1 div.sk-label label {font-family: monospace;font-weight: bold;display: inline-block;line-height: 1.2em;}#sk-container-id-1 div.sk-label-container {text-align: center;}#sk-container-id-1 div.sk-container {/* jupyter's `normalize.less` sets `[hidden] { display: none; }` but bootstrap.min.css set `[hidden] { display: none !important; }` so we also need the `!important` here to be able to override the default hidden behavior on the sphinx rendered scikit-learn.org. See: https://github.com/scikit-learn/scikit-learn/issues/21755 */display: inline-block !important;position: relative;}#sk-container-id-1 div.sk-text-repr-fallback {display: none;}</style><div id=\"sk-container-id-1\" class=\"sk-top-container\"><div class=\"sk-text-repr-fallback\"><pre>LinearRegression()</pre><b>In a Jupyter environment, please rerun this cell to show the HTML representation or trust the notebook. <br />On GitHub, the HTML representation is unable to render, please try loading this page with nbviewer.org.</b></div><div class=\"sk-container\" hidden><div class=\"sk-item\"><div class=\"sk-estimator sk-toggleable\"><input class=\"sk-toggleable__control sk-hidden--visually\" id=\"sk-estimator-id-1\" type=\"checkbox\" checked><label for=\"sk-estimator-id-1\" class=\"sk-toggleable__label sk-toggleable__label-arrow\">LinearRegression</label><div class=\"sk-toggleable__content\"><pre>LinearRegression()</pre></div></div></div></div></div>"
            ]
          },
          "metadata": {},
          "execution_count": 45
        }
      ]
    },
    {
      "cell_type": "code",
      "source": [
        "#E. Use the fitted model, please compute and print the coefficient \\beta_0 (attribute\n",
        "#'intercept_') and \\beta_1 (attribute 'coef_'). Needless to say, \\beta_0 should be close to zero,\n",
        "#and \\beta_1 should be close to 2.\n",
        "print(\"β0 (intercept):\", model.intercept_)\n",
        "print(\"β1 (coefficient):\", model.coef_[0])\n"
      ],
      "metadata": {
        "colab": {
          "base_uri": "https://localhost:8080/"
        },
        "id": "jiFF1rKista3",
        "outputId": "bd4b3d04-0df0-4b3d-cb80-ff43b8ad5099"
      },
      "execution_count": null,
      "outputs": [
        {
          "output_type": "stream",
          "name": "stdout",
          "text": [
            "β0 (intercept): 0.07275865065096454\n",
            "β1 (coefficient): 1.986771154427099\n"
          ]
        }
      ]
    },
    {
      "cell_type": "code",
      "source": [
        "#Haoran Liang 58298"
      ],
      "metadata": {
        "id": "Y8-Y8wXftwgd"
      },
      "execution_count": null,
      "outputs": []
    }
  ]
}